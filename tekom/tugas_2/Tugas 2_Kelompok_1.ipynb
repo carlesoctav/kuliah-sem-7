{
 "cells": [
  {
   "cell_type": "markdown",
   "metadata": {},
   "source": [
    "IF it's doesn't work, please try to convert the file to .py and run it on your terminal"
   ]
  },
  {
   "cell_type": "code",
   "execution_count": null,
   "metadata": {},
   "outputs": [],
   "source": [
    "!pip install turtle #if you don't have turtle instBalled"
   ]
  },
  {
   "cell_type": "code",
   "execution_count": 1,
   "metadata": {},
   "outputs": [],
   "source": [
    "import turtle\n",
    "\n",
    "\n",
    "def apply_rules(sentensial, productions):\n",
    "    new_sentensial = \"\"\n",
    "    for c in sentensial:\n",
    "        if c in productions:\n",
    "            new_sentensial += productions[c]\n",
    "    return new_sentensial\n",
    "\n",
    "\n",
    "def draw_tree(start_symbol, productions, angle, distance, iterations):\n",
    "    sentensial = start_symbol\n",
    "    stack = []\n",
    "    turtle.penup()\n",
    "    turtle.goto(0, -200)\n",
    "    turtle.pendown()\n",
    "    turtle.setheading(90)\n",
    "    for _ in range(iterations):\n",
    "        sentensial = apply_rules(sentensial, productions)\n",
    "\n",
    "    sentensial = sentensial.replace(\"D\", \"d\", -1)\n",
    "    for c in sentensial:\n",
    "        if c == \"d\":\n",
    "            turtle.forward(distance)\n",
    "        elif c == \"+\":\n",
    "            turtle.right(angle)\n",
    "        elif c == \"-\":\n",
    "            turtle.left(angle)\n",
    "\n",
    "\n",
    "productions = {\"D\": \"D+D-D-DD+D+D-D\", \"S\": \"D+D+D+D\", \"+\": \"+\", \"-\": \"-\"}\n",
    "start_symbol = \"S\"\n",
    "angle = 90\n",
    "distance = 5\n",
    "iterations = 3\n",
    "draw_tree(start_symbol, productions, angle, distance, iterations)\n",
    "turtle.done()\n"
   ]
  },
  {
   "cell_type": "code",
   "execution_count": null,
   "metadata": {},
   "outputs": [],
   "source": []
  }
 ],
 "metadata": {
  "kernelspec": {
   "display_name": "Python 3",
   "language": "python",
   "name": "python3"
  },
  "language_info": {
   "codemirror_mode": {
    "name": "ipython",
    "version": 3
   },
   "file_extension": ".py",
   "mimetype": "text/x-python",
   "name": "python",
   "nbconvert_exporter": "python",
   "pygments_lexer": "ipython3",
   "version": "3.11.4"
  },
  "orig_nbformat": 4
 },
 "nbformat": 4,
 "nbformat_minor": 2
}
