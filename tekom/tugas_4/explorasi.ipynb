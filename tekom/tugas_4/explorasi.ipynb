{
  "nbformat": 4,
  "nbformat_minor": 0,
  "metadata": {
    "colab": {
      "provenance": []
    },
    "kernelspec": {
      "name": "python3",
      "display_name": "Python 3"
    },
    "language_info": {
      "name": "python"
    }
  },
  "cells": [
    {
      "cell_type": "code",
      "execution_count": 43,
      "metadata": {
        "id": "h-1GpiVWZZZv"
      },
      "outputs": [],
      "source": [
        "# Kelas Automata\n",
        "from random import randint\n",
        "from typing import List\n",
        "\n",
        "class Automata:\n",
        "    def __init__(\n",
        "        self,\n",
        "        internal_state: List[str],\n",
        "        alphabet: List[str],\n",
        "        transition_function: dict,\n",
        "        initial_state: str,\n",
        "        final_state: List[str],\n",
        "        deterministic: bool,\n",
        "    ):\n",
        "        \"\"\"\n",
        "        dfa just a quintuple :D\n",
        "        \"\"\"\n",
        "\n",
        "        self.internal_state = internal_state\n",
        "        self.alphabet = alphabet\n",
        "        self.transition_function = transition_function\n",
        "        self.initial_state = initial_state\n",
        "        self.final_state = final_state\n",
        "        self.deterministic = deterministic\n",
        "\n",
        "    def check_string(self, string: str) -> bool:\n",
        "        \"\"\"\n",
        "        check if the string is accepted by the dfa\n",
        "        \"\"\"\n",
        "\n",
        "        if self.deterministic:\n",
        "            return self._check_string_dfa(string)\n",
        "        else:\n",
        "            return self._check_string_nfa(string)\n",
        "\n",
        "    def _check_string_dfa(self, string: str) -> bool:\n",
        "        \"\"\"\n",
        "        check if the string is accepted by the dfa\n",
        "        \"\"\"\n",
        "\n",
        "        current_state = self.initial_state\n",
        "\n",
        "        for char in string:\n",
        "            if char not in self.alphabet:\n",
        "                return False\n",
        "            print(\"d({0},{1}) = {2}\".format(current_state, char, self.transition_function[current_state][char]))\n",
        "            current_state = self.transition_function[current_state][char]\n",
        "\n",
        "        return current_state in self.final_state\n",
        "\n",
        "    def _check_string_nfa(self, string: str) -> bool:\n",
        "        \"\"\"\n",
        "        check if the string is accepted by the nfa\n",
        "        \"\"\"\n",
        "\n",
        "        queue = [self.initial_state]\n",
        "        current_state = self.initial_state\n",
        "\n",
        "        for char in string:\n",
        "            if char not in self.alphabet:\n",
        "                return False\n",
        "\n",
        "            for q in queue:\n",
        "                if char in self.transition_function[q]:\n",
        "                    queue += self.transition_function[q][char]\n",
        "                queue.remove(q)\n",
        "\n",
        "        return any([q in self.final_state for q in queue])"
      ]
    },
    {
      "cell_type": "code",
      "source": [
        "# Contoh pendefinisian fungsi transisi deterministik dan non deterministik\n",
        "# transition function yang deterministic\n",
        "# det_trans_table {\n",
        "#     'q0': {\n",
        "#         'a': 'q1',\n",
        "#         'b': 'q2',\n",
        "#     },\n",
        "\n",
        "# }\n",
        "\n",
        "# transition function yang non-deterministic\n",
        "# non_det_trans_table = {\n",
        "#     'q0': {\n",
        "#         'a': ['q1', 'q2'],\n",
        "#         'b': ['q0'],\n",
        "#     },\n",
        "# }"
      ],
      "metadata": {
        "id": "_pZ7kvUYtvkO"
      },
      "execution_count": 39,
      "outputs": []
    },
    {
      "cell_type": "markdown",
      "source": [
        "## DFA"
      ],
      "metadata": {
        "id": "n--xu6oMaLLu"
      }
    },
    {
      "cell_type": "markdown",
      "source": [
        "### Nomor 1, <br>\n",
        "L = {w | w berisi string yang tidak terdiri dari lebih satu string aa atau bb}<br>\n",
        "Catatan:<br>\n",
        "String aaa mengandung dua string aa."
      ],
      "metadata": {
        "id": "SFHKDfvWaQ2D"
      }
    },
    {
      "cell_type": "code",
      "source": [
        "#Definisi Fungsi Transisi berdasarkan Tabel Transisi\n",
        "transition_function1 = {\n",
        "        'q0': {\n",
        "            'a': 'q1',\n",
        "            'b': 'q3',\n",
        "        },\n",
        "        'q1': {\n",
        "            'a': 'q2',\n",
        "            'b': 'q3',\n",
        "        },\n",
        "        'q2': {\n",
        "            'a': 'q4',\n",
        "            'b': 'q6',\n",
        "        },\n",
        "        'q3': {\n",
        "            'a': 'q1',\n",
        "            'b': 'q5',\n",
        "        },\n",
        "        # q4 berperan sebagai trap state\n",
        "        'q4': {\n",
        "            'a': 'q4',\n",
        "            'b': 'q4',\n",
        "        },\n",
        "        'q5': {\n",
        "            'a': 'q9',\n",
        "            'b': 'q4',\n",
        "        },\n",
        "        'q6': {\n",
        "            'a': 'q2',\n",
        "            'b': 'q7',\n",
        "        },\n",
        "        'q7': {\n",
        "            'a': 'q8',\n",
        "            'b': 'q4',\n",
        "        },\n",
        "        'q8': {\n",
        "            'a': 'q4',\n",
        "            'b': 'q7',\n",
        "        },\n",
        "        'q9': {\n",
        "            'a': 'q10',\n",
        "            'b': 'q5',\n",
        "        },\n",
        "        'q10': {\n",
        "            'a': 'q4',\n",
        "            'b': 'q11',\n",
        "        },\n",
        "        'q11': {\n",
        "            'a': 'q10',\n",
        "            'b': 'q4',\n",
        "        },\n",
        "    }"
      ],
      "metadata": {
        "id": "9Yew8BfrZ6XK"
      },
      "execution_count": 40,
      "outputs": []
    },
    {
      "cell_type": "code",
      "source": [
        "# Memanggil fungsi automata dengan input yang sesuai dengan solusi dari soal\n",
        "dfa1 = Automata(\n",
        "        internal_state=['q0', 'q1', 'q2', 'q3', 'q4', 'q5', 'q6', 'q7', 'q8', 'q9', 'q10', 'q11'],\n",
        "        alphabet=['a', 'b'],\n",
        "        transition_function=transition_function1,\n",
        "        initial_state='q0',\n",
        "        final_state=['q0', 'q1', 'q2', 'q3', 'q5', 'q6', 'q7', 'q8', 'q9', 'q10', 'q11'],\n",
        "        deterministic=True,\n",
        "    )"
      ],
      "metadata": {
        "id": "Rmz7vy_gjoxF"
      },
      "execution_count": 44,
      "outputs": []
    },
    {
      "cell_type": "code",
      "source": [
        "while True:\n",
        "  x = str(input(\"\\nInput string yang ingin dievaluasi: \"))\n",
        "  display(dfa1.check_string(x))\n",
        "  x = str(input(\"Apakah Anda ingin mengevaluasi string lain? (y/n): \"))\n",
        "  if x == 'n':\n",
        "    break"
      ],
      "metadata": {
        "colab": {
          "base_uri": "https://localhost:8080/",
          "height": 138
        },
        "id": "HXDZ-kv6ZmuH",
        "outputId": "e8f2ba54-84f2-438b-9641-611d51c426a8"
      },
      "execution_count": 53,
      "outputs": [
        {
          "output_type": "stream",
          "name": "stdout",
          "text": [
            "\n",
            "Input string yang ingin dievaluasi: aaa\n",
            "d(q0,a) = q1\n",
            "d(q1,a) = q2\n",
            "d(q2,a) = q4\n"
          ]
        },
        {
          "output_type": "display_data",
          "data": {
            "text/plain": [
              "False"
            ]
          },
          "metadata": {}
        },
        {
          "name": "stdout",
          "output_type": "stream",
          "text": [
            "Apakah Anda ingin mengevaluasi string lain? (y/n): n\n"
          ]
        }
      ]
    },
    {
      "cell_type": "code",
      "source": [
        "print(dfa1.check_string(\"aaabbb\")) # harusnya false\n",
        "print(dfa1.check_string(\"abaabb\")) # harusnya true"
      ],
      "metadata": {
        "colab": {
          "base_uri": "https://localhost:8080/"
        },
        "id": "Q2aaCVQatisf",
        "outputId": "ea11ad62-699f-4a2c-aadc-9cbf0edfeaa0"
      },
      "execution_count": 45,
      "outputs": [
        {
          "output_type": "stream",
          "name": "stdout",
          "text": [
            "d(q0,a) = q1\n",
            "d(q1,a) = q2\n",
            "d(q2,a) = q4\n",
            "d(q4,b) = q4\n",
            "d(q4,b) = q4\n",
            "d(q4,b) = q4\n",
            "False\n",
            "d(q0,a) = q1\n",
            "d(q1,b) = q3\n",
            "d(q3,a) = q1\n",
            "d(q1,a) = q2\n",
            "d(q2,b) = q6\n",
            "d(q6,b) = q7\n",
            "True\n"
          ]
        }
      ]
    },
    {
      "cell_type": "markdown",
      "source": [
        "### Nomor 2, <br>\n",
        "L = {w | w berisi string yang diawali atau diakhiri dengan aa atau bb}"
      ],
      "metadata": {
        "id": "Z1VVTvq1kQ3U"
      }
    },
    {
      "cell_type": "code",
      "source": [
        "transition_function2 = {\n",
        "        'q0': {\n",
        "            'a': 'q1',\n",
        "            'b': 'q2',\n",
        "        },\n",
        "        'q1': {\n",
        "            'a': 'q3',\n",
        "            'b': 'q4',\n",
        "        },\n",
        "        'q2': {\n",
        "            'a': 'q5',\n",
        "            'b': 'q6',\n",
        "        },\n",
        "        'q3': {\n",
        "            'a': 'q3',\n",
        "            'b': 'q3',\n",
        "        },\n",
        "        'q4': {\n",
        "            'a': 'q5',\n",
        "            'b': 'q8',\n",
        "        },\n",
        "        'q5': {\n",
        "            'a': 'q7',\n",
        "            'b': 'q4',\n",
        "        },\n",
        "        'q6': {\n",
        "            'a': 'q6',\n",
        "            'b': 'q6',\n",
        "        },\n",
        "        'q7': {\n",
        "            'a': 'q7',\n",
        "            'b': 'q4',\n",
        "        },\n",
        "        'q8': {\n",
        "            'a': 'q5',\n",
        "            'b': 'q8',\n",
        "        },\n",
        "      }"
      ],
      "metadata": {
        "id": "EzWoHp3oketC"
      },
      "execution_count": null,
      "outputs": []
    },
    {
      "cell_type": "code",
      "source": [
        "# Memanggil fungsi automata dengan input yang sesuai dengan solusi dari soal\n",
        "dfa2 = Automata(\n",
        "        internal_state=['q0', 'q1', 'q2', 'q3', 'q4', 'q5', 'q6', 'q7', 'q8'],\n",
        "        alphabet=['a', 'b'],\n",
        "        transition_function=transition_function2,\n",
        "        initial_state='q0',\n",
        "        final_state=['q3', 'q6', 'q7', 'q8'],\n",
        "        deterministic=True,\n",
        "    )"
      ],
      "metadata": {
        "id": "07iN9FGNlcPj"
      },
      "execution_count": 58,
      "outputs": []
    },
    {
      "cell_type": "code",
      "source": [
        "while True:\n",
        "  x = str(input(\"\\nInput string yang ingin dievaluasi: \"))\n",
        "  display(dfa2.check_string(x))\n",
        "  x = str(input(\"Apakah Anda ingin mengevaluasi string lain? (y/n): \"))\n",
        "  if x == 'n':\n",
        "    break"
      ],
      "metadata": {
        "colab": {
          "base_uri": "https://localhost:8080/",
          "height": 208
        },
        "id": "UaIB-_4vcRy5",
        "outputId": "cc2cbc50-de7d-4586-e48c-04a9190771a1"
      },
      "execution_count": 59,
      "outputs": [
        {
          "output_type": "stream",
          "name": "stdout",
          "text": [
            "\n",
            "Input string yang ingin dievaluasi: abababa\n",
            "d(q0,a) = q1\n",
            "d(q1,b) = q4\n",
            "d(q4,a) = q5\n",
            "d(q5,b) = q4\n",
            "d(q4,a) = q5\n",
            "d(q5,b) = q4\n",
            "d(q4,a) = q5\n"
          ]
        },
        {
          "output_type": "display_data",
          "data": {
            "text/plain": [
              "False"
            ]
          },
          "metadata": {}
        },
        {
          "name": "stdout",
          "output_type": "stream",
          "text": [
            "Apakah Anda ingin mengevaluasi string lain? (y/n): n\n"
          ]
        }
      ]
    },
    {
      "cell_type": "code",
      "source": [
        "print(dfa2.check_string(\"abaabbababab\")) # harusnya false\n",
        "print(dfa2.check_string(\"aaabbbbaabba\")) # harusnya true"
      ],
      "metadata": {
        "colab": {
          "base_uri": "https://localhost:8080/"
        },
        "id": "mQh5Ln_DvC1d",
        "outputId": "014a03cd-6629-47cc-d09c-c5e5bb3b9b24"
      },
      "execution_count": null,
      "outputs": [
        {
          "output_type": "stream",
          "name": "stdout",
          "text": [
            "False\n",
            "True\n"
          ]
        }
      ]
    },
    {
      "cell_type": "markdown",
      "source": [
        "### Nomor 3, <br>\n",
        "L = {w | w berisi string yang mengandung sejumlah genap a dan b}"
      ],
      "metadata": {
        "id": "2R7DKPWvlwPd"
      }
    },
    {
      "cell_type": "code",
      "source": [
        "transition_function3 = {\n",
        "        'q0': {\n",
        "            'a': 'q1',\n",
        "            'b': 'q2',\n",
        "        },\n",
        "        'q1': {\n",
        "            'a': 'q0',\n",
        "            'b': 'q3',\n",
        "        },\n",
        "        'q2': {\n",
        "            'a': 'q3',\n",
        "            'b': 'q0',\n",
        "        },\n",
        "        'q3': {\n",
        "            'a': 'q2',\n",
        "            'b': 'q1',\n",
        "        },\n",
        "      }"
      ],
      "metadata": {
        "id": "-YRwlzyPl58x"
      },
      "execution_count": null,
      "outputs": []
    },
    {
      "cell_type": "code",
      "source": [
        "# Memanggil fungsi automata dengan input yang sesuai dengan solusi dari soal\n",
        "dfa3 = Automata(\n",
        "        internal_state=['q0', 'q1', 'q2', 'q3'],\n",
        "        alphabet=['a', 'b'],\n",
        "        transition_function=transition_function3,\n",
        "        initial_state='q0',\n",
        "        final_state=['q0'],\n",
        "        deterministic=True,\n",
        "    )"
      ],
      "metadata": {
        "id": "CS1t5F3rmMCb"
      },
      "execution_count": 57,
      "outputs": []
    },
    {
      "cell_type": "code",
      "source": [
        "while True:\n",
        "  x = str(input(\"\\nInput string yang ingin dievaluasi: \"))\n",
        "  print(\"Jumlah alfabet a dan b dalam string adalah {0} dan {1}\".format(x.count('a'), x.count('b')))\n",
        "  display(dfa3.check_string(x))\n",
        "  x = str(input(\"Apakah Anda ingin mengevaluasi string lain? (y/n): \"))\n",
        "  if x == 'n':\n",
        "    break"
      ],
      "metadata": {
        "colab": {
          "base_uri": "https://localhost:8080/",
          "height": 191
        },
        "id": "5OGegJEzcTEc",
        "outputId": "e868d9da-afae-4a60-fc39-f18793d91c51"
      },
      "execution_count": 60,
      "outputs": [
        {
          "output_type": "stream",
          "name": "stdout",
          "text": [
            "\n",
            "Input string yang ingin dievaluasi: ababa\n",
            "Jumlah alfabet a dan b dalam string adalah 3 dan 2\n",
            "d(q0,a) = q1\n",
            "d(q1,b) = q3\n",
            "d(q3,a) = q2\n",
            "d(q2,b) = q0\n",
            "d(q0,a) = q1\n"
          ]
        },
        {
          "output_type": "display_data",
          "data": {
            "text/plain": [
              "False"
            ]
          },
          "metadata": {}
        },
        {
          "name": "stdout",
          "output_type": "stream",
          "text": [
            "Apakah Anda ingin mengevaluasi string lain? (y/n): n\n"
          ]
        }
      ]
    },
    {
      "cell_type": "code",
      "source": [
        "print(dfa3.check_string(\"abaabababab\")) # harusnya false\n",
        "print(dfa3.check_string(\"ababbbababaa\")) # harusnya true"
      ],
      "metadata": {
        "colab": {
          "base_uri": "https://localhost:8080/"
        },
        "id": "UZyhDZiwvO4D",
        "outputId": "f60b79ab-960b-4864-f71c-8b018620badc"
      },
      "execution_count": null,
      "outputs": [
        {
          "output_type": "stream",
          "name": "stdout",
          "text": [
            "False\n",
            "True\n"
          ]
        }
      ]
    },
    {
      "cell_type": "markdown",
      "source": [
        "## NFA"
      ],
      "metadata": {
        "id": "TTzXuP5b0Qg4"
      }
    },
    {
      "cell_type": "code",
      "source": [],
      "metadata": {
        "id": "G2tLMfWcwZf1"
      },
      "execution_count": null,
      "outputs": []
    }
  ]
}